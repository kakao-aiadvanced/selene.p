{
 "cells": [
  {
   "cell_type": "code",
   "execution_count": 1,
   "id": "99cbb5a1-c329-44c5-be0a-098ab893fec5",
   "metadata": {},
   "outputs": [],
   "source": [
    "import openai\n",
    "import re\n",
    "import time\n",
    "\n",
    "import numpy as np\n",
    "\n",
    "from tqdm import tqdm\n",
    "from datasets import load_dataset"
   ]
  },
  {
   "cell_type": "code",
   "execution_count": 2,
   "id": "4b1f3ff3-997c-43d7-80fa-160285acd60c",
   "metadata": {},
   "outputs": [],
   "source": [
    "openai.api_key = \"sk-\""
   ]
  },
  {
   "cell_type": "code",
   "execution_count": 3,
   "id": "7dc5757f-bf39-43e2-bc91-1c5252f4afa9",
   "metadata": {},
   "outputs": [],
   "source": [
    "from tenacity import (\n",
    "    retry,\n",
    "    stop_after_attempt,\n",
    "    wait_chain,\n",
    "    wait_fixed\n",
    ") \n",
    "\n",
    "@retry(wait=wait_chain(*[wait_fixed(3) for i in range(3)] +\n",
    "                       [wait_fixed(5) for i in range(2)] +\n",
    "                       [wait_fixed(10)]))\n",
    "def completion_with_backoff(**kwargs):\n",
    "    return openai.ChatCompletion.create(**kwargs)"
   ]
  },
  {
   "cell_type": "code",
   "execution_count": 4,
   "id": "3d3774ef-138f-4597-a0b6-2e585066eff0",
   "metadata": {},
   "outputs": [],
   "source": [
    "def test_answer(pred_str, ans_str):\n",
    "    pattern = '\\d*\\.?\\d+'\n",
    "    pred = re.findall(pattern, pred_str)\n",
    "    if(len(pred) >= 1):\n",
    "        # print(pred_str)\n",
    "        pred = pred[-1]\n",
    "        gold = re.findall(pattern, ans_str)\n",
    "        # print(ans_str)\n",
    "        gold = gold[-1]\n",
    "        return pred == gold\n",
    "    else: return False\n",
    "\n",
    "def parse_pred_ans(filename):\n",
    "    with open(filename) as fd: lines = fd.readlines()\n",
    "    am, a = None, None\n",
    "    num_q, acc = 0, 0\n",
    "    current_mode = 'none'\n",
    "    questions = []\n",
    "    ans_pred = []\n",
    "    ans_gold = []\n",
    "    for l in lines:\n",
    "        if(l.startswith('Q: ')):\n",
    "            if(am is not None and a is not None):\n",
    "                questions.append(q)\n",
    "                ans_pred.append(am)\n",
    "                ans_gold.append(a)\n",
    "                if(test_answer(am, a)):\n",
    "                    acc += 1\n",
    "            current_mode = 'q'\n",
    "            q = l\n",
    "            num_q += 1\n",
    "        elif(l.startswith('A_model:')):\n",
    "            current_mode = 'am'\n",
    "            am = l\n",
    "        elif(l.startswith('A:')):\n",
    "            current_mode = 'a'\n",
    "            a = l\n",
    "        else:\n",
    "            if(current_mode == 'q'): q += l\n",
    "            elif(current_mode == 'am'): am += l\n",
    "            elif(current_mode == 'a'): a += l\n",
    "            else:\n",
    "                raise ValueError(current_mode)\n",
    "                \n",
    "    questions.append(q)\n",
    "    ans_pred.append(am)\n",
    "    ans_gold.append(a)\n",
    "    if(test_answer(am, a)):\n",
    "        acc += 1\n",
    "    print('num_q %d correct %d ratio %.4f' % (num_q, acc, float(acc / num_q)))\n",
    "    return questions, ans_pred, ans_gold\n",
    "\n",
    "def test_finished(ans_model):\n",
    "    if('answer is' in ans_model): return True\n",
    "    else: return False\n",
    "\n",
    "def extract_ans(ans_model):\n",
    "    ans_model = ans_model.split('\\n')\n",
    "    ans = []\n",
    "    residual = []\n",
    "    for li, al in enumerate(ans_model):\n",
    "        ans.append(al)\n",
    "        if('answer is' in al):\n",
    "            break\n",
    "    residual = list(ans_model[li + 1:])\n",
    "    ans = '\\n'.join(ans)\n",
    "    residual = '\\n'.join(residual)\n",
    "    return ans, residual"
   ]
  },
  {
   "cell_type": "code",
   "execution_count": 18,
   "id": "9ef6bce0-164b-4527-a9d2-9274f0e5a480",
   "metadata": {},
   "outputs": [],
   "source": [
    "prompt_1 = \"\"\"\n",
    "You'll be provided with integer 'n' and a list of integers (length of m).\n",
    "Your job is to sort the list of integers in ascending order and answer the list.\n",
    "!! Just answer the list. Do not answer anything else than the sorted list.\n",
    "\n",
    "<Example>\n",
    "Q) n: 20, list: [4, 2, 4, 5]\n",
    "A) [2, 4, 4, 5]\n",
    "\n",
    "Q) n: 20, list: [19, 18, 19, 1]\n",
    "A) [1, 18, 19, 19]\n",
    "</Example>\n",
    "\n",
    "\"\"\""
   ]
  },
  {
   "cell_type": "code",
   "execution_count": 34,
   "id": "fb7e9f86-667a-47e1-a43a-4c1101c35eb2",
   "metadata": {},
   "outputs": [],
   "source": [
    "prompt_2 = \"\"\"\n",
    "You are given two inputs:\n",
    "\n",
    "An integer n which represents the upper limit of the range of integers.\n",
    "A list of integers called number_list which includes m numbers that are selected from between 0 and n (inclusive).\n",
    "Sort the list number_list in ascending order and provide the sorted output.\n",
    "\n",
    "It is essential that all numbers in number_list are within the range of 0 to n. If any number lies outside this range, specify that an error has occurred due to out-of-range values.\n",
    "\n",
    "Task: Provide the sorted list of numbers from the provided number_list based on the criteria mentioned. \n",
    "!! Just answer the list. Do not answer anything else than the sorted list.\n",
    "\n",
    "Examples for Execution:\n",
    "\n",
    "For the input n = 10 and number_list = [3, 1, 8, 7], provide the sorted result.\n",
    "For the input n = 5 and number_list = [6, 2, 4], indicate that there is an error because the number 6 is not within the range 1 to 5.\n",
    "\n",
    "\"\"\""
   ]
  },
  {
   "cell_type": "code",
   "execution_count": 20,
   "id": "14b0bb66-c2aa-4faa-bd00-5136a76863a1",
   "metadata": {},
   "outputs": [],
   "source": [
    "questions = [\n",
    "    \"n=10, number_list=[3, 2, 4, 1]\",\n",
    "    \"n=20, number_list=[6, 2, 20, 18, 5, 1]\",\n",
    "    \"n=20, number_list=[0, 0, 0, 0, 0, 0]\",\n",
    "    \"n=10, number_list=[1, 2, 3, 4, 5]\",\n",
    "]\n",
    "answers = [\n",
    "    \"[1, 2, 3, 4]\",\n",
    "    \"[1, 2, 5, 6, 18, 20]\",\n",
    "    \"[0, 0, 0, 0, 0, 0]\",\n",
    "    \"[1, 2, 3, 4, 5]\"\n",
    "]"
   ]
  },
  {
   "cell_type": "markdown",
   "id": "97adde84-992a-4aba-95a0-f4ab0c37c7a5",
   "metadata": {},
   "source": [
    "### 1) "
   ]
  },
  {
   "cell_type": "code",
   "execution_count": 23,
   "id": "00b6e978-e02c-413f-8ee6-49e7e9823fec",
   "metadata": {},
   "outputs": [],
   "source": [
    "i = 0\n",
    "with open('./outputs/test_8_1.txt', 'w') as fd:\n",
    "    for q, a in zip(questions, answers):\n",
    "        \n",
    "        prompt_q = prompt_1 + '\\nQ): ' + q + '\\n'  \n",
    "        \n",
    "        response = completion_with_backoff(\n",
    "              model=\"gpt-3.5-turbo\",\n",
    "              messages=[\n",
    "                    {\"role\": \"system\", \"content\": \"Follow the given examples and answer the question.\"},\n",
    "                    {\"role\": \"user\", \"content\": prompt_q},\n",
    "                ]\n",
    "            )\n",
    "        ans_model = response['choices'][0]['message']['content']\n",
    "        ans_, residual = extract_ans(ans_model)\n",
    "            \n",
    "        fd.write('Q: %s\\nA_model:\\n%s\\nA:\\n%s\\n\\n' % (q, ans_, a))"
   ]
  },
  {
   "cell_type": "code",
   "execution_count": 24,
   "id": "4fa51f01-6085-4eaf-93b5-29c98445f669",
   "metadata": {},
   "outputs": [
    {
     "name": "stdout",
     "output_type": "stream",
     "text": [
      "num_q 4 correct 4 ratio 1.0000\n"
     ]
    }
   ],
   "source": [
    "_, _, _ = parse_pred_ans('outputs/test_8_1.txt')"
   ]
  },
  {
   "cell_type": "markdown",
   "id": "a34fe8a5-fbea-426c-ae84-27b0645a7244",
   "metadata": {},
   "source": [
    "### 2) "
   ]
  },
  {
   "cell_type": "code",
   "execution_count": 35,
   "id": "4b3a9619-25f9-4c99-a026-cc66e69edf76",
   "metadata": {},
   "outputs": [],
   "source": [
    "i = 0\n",
    "with open('./outputs/test_8_2.txt', 'w') as fd:\n",
    "    for q, a in zip(questions, answers):\n",
    "        \n",
    "        prompt_q = prompt_2 + '\\nQ): ' + q + '\\n'  \n",
    "        \n",
    "        response = completion_with_backoff(\n",
    "              model=\"gpt-3.5-turbo\",\n",
    "              messages=[\n",
    "                    {\"role\": \"system\", \"content\": \"Follow the given examples and answer the question.\"},\n",
    "                    {\"role\": \"user\", \"content\": prompt_q},\n",
    "                ]\n",
    "            )\n",
    "        ans_model = response['choices'][0]['message']['content']\n",
    "        ans_, residual = extract_ans(ans_model)\n",
    "            \n",
    "        fd.write('Q: %s\\nA_model:\\n%s\\nA:\\n%s\\n\\n' % (q, ans_, a))"
   ]
  },
  {
   "cell_type": "code",
   "execution_count": 36,
   "id": "5172063d-3501-4588-a52d-aa787b4ac9e4",
   "metadata": {},
   "outputs": [
    {
     "name": "stdout",
     "output_type": "stream",
     "text": [
      "num_q 4 correct 4 ratio 1.0000\n"
     ]
    }
   ],
   "source": [
    "_, _, _ = parse_pred_ans('outputs/test_8_2.txt')"
   ]
  },
  {
   "cell_type": "code",
   "execution_count": null,
   "id": "57055cbc-31ee-40a6-a72a-decf63847681",
   "metadata": {},
   "outputs": [],
   "source": []
  }
 ],
 "metadata": {
  "kernelspec": {
   "display_name": "venv",
   "language": "python",
   "name": "venv"
  },
  "language_info": {
   "codemirror_mode": {
    "name": "ipython",
    "version": 3
   },
   "file_extension": ".py",
   "mimetype": "text/x-python",
   "name": "python",
   "nbconvert_exporter": "python",
   "pygments_lexer": "ipython3",
   "version": "3.8.10"
  }
 },
 "nbformat": 4,
 "nbformat_minor": 5
}
