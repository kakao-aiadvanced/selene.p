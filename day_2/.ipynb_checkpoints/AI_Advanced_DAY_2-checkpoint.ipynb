{
 "cells": [
  {
   "cell_type": "code",
   "execution_count": 1,
   "metadata": {
    "colab": {
     "base_uri": "https://localhost:8080/"
    },
    "id": "4iy3JGJHESan",
    "outputId": "f14e75fe-d5cf-4e73-8387-46cfd0de2bb5"
   },
   "outputs": [
    {
     "name": "stdout",
     "output_type": "stream",
     "text": [
      "Collecting chromadb\n",
      "  Downloading chromadb-0.5.2-py3-none-any.whl (559 kB)\n",
      "\u001b[K     |████████████████████████████████| 559 kB 9.0 MB/s eta 0:00:01\n",
      "\u001b[?25hCollecting langchain-chroma\n",
      "  Downloading langchain_chroma-0.1.1-py3-none-any.whl (8.5 kB)\n",
      "Collecting langchain_community\n",
      "  Downloading langchain_community-0.2.5-py3-none-any.whl (2.2 MB)\n",
      "\u001b[K     |████████████████████████████████| 2.2 MB 9.4 MB/s eta 0:00:01\n",
      "\u001b[?25hCollecting langchain_openai\n",
      "  Downloading langchain_openai-0.1.8-py3-none-any.whl (38 kB)\n",
      "Collecting langchain_text_splitters\n",
      "  Downloading langchain_text_splitters-0.2.1-py3-none-any.whl (23 kB)\n",
      "Collecting langchain-huggingface\n",
      "  Downloading langchain_huggingface-0.0.3-py3-none-any.whl (17 kB)\n",
      "Collecting sentence-transformers\n",
      "  Downloading sentence_transformers-3.0.1-py3-none-any.whl (227 kB)\n",
      "\u001b[K     |████████████████████████████████| 227 kB 2.5 MB/s eta 0:00:01\n",
      "\u001b[?25hCollecting langsmith\n",
      "  Downloading langsmith-0.1.79-py3-none-any.whl (125 kB)\n",
      "\u001b[K     |████████████████████████████████| 125 kB 5.7 MB/s eta 0:00:01\n",
      "\u001b[?25hRequirement already satisfied: PyYAML>=6.0.0 in /Users/selene/Workspace/python-test/venv/lib/python3.8/site-packages (from chromadb) (6.0.1)\n",
      "Collecting onnxruntime>=1.14.1\n",
      "  Downloading onnxruntime-1.18.0-cp38-cp38-macosx_11_0_universal2.whl (15.9 MB)\n",
      "\u001b[K     |████████████████████████████████| 15.9 MB 727 kB/s eta 0:00:011     |█████████████████████▎          | 10.6 MB 13.6 MB/s eta 0:00:01\n",
      "\u001b[?25hRequirement already satisfied: requests>=2.28 in /Users/selene/Workspace/python-test/venv/lib/python3.8/site-packages (from chromadb) (2.31.0)\n",
      "Collecting build>=1.0.3\n",
      "  Downloading build-1.2.1-py3-none-any.whl (21 kB)\n",
      "Collecting pypika>=0.48.9\n",
      "  Using cached PyPika-0.48.9.tar.gz (67 kB)\n",
      "  Installing build dependencies ... \u001b[?25ldone\n",
      "\u001b[?25h  Getting requirements to build wheel ... \u001b[?25ldone\n",
      "\u001b[?25h    Preparing wheel metadata ... \u001b[?25ldone\n",
      "\u001b[?25hRequirement already satisfied: tokenizers>=0.13.2 in /Users/selene/Workspace/python-test/venv/lib/python3.8/site-packages (from chromadb) (0.19.1)\n",
      "Requirement already satisfied: typing-extensions>=4.5.0 in /Users/selene/Workspace/python-test/venv/lib/python3.8/site-packages (from chromadb) (4.12.2)\n",
      "Requirement already satisfied: httpx>=0.27.0 in /Users/selene/Workspace/python-test/venv/lib/python3.8/site-packages (from chromadb) (0.27.0)\n",
      "Requirement already satisfied: grpcio>=1.58.0 in /Users/selene/Workspace/python-test/venv/lib/python3.8/site-packages (from chromadb) (1.62.2)\n",
      "Requirement already satisfied: tenacity>=8.2.3 in /Users/selene/Workspace/python-test/venv/lib/python3.8/site-packages (from chromadb) (8.3.0)\n",
      "Requirement already satisfied: overrides>=7.3.1 in /Users/selene/Workspace/python-test/venv/lib/python3.8/site-packages (from chromadb) (7.7.0)\n",
      "Collecting kubernetes>=28.1.0\n",
      "  Downloading kubernetes-30.1.0-py2.py3-none-any.whl (1.7 MB)\n",
      "\u001b[K     |████████████████████████████████| 1.7 MB 5.1 MB/s eta 0:00:01\n",
      "\u001b[?25hCollecting fastapi>=0.95.2\n",
      "  Downloading fastapi-0.111.0-py3-none-any.whl (91 kB)\n",
      "\u001b[K     |████████████████████████████████| 91 kB 14.9 MB/s eta 0:00:01\n",
      "\u001b[?25hCollecting uvicorn[standard]>=0.18.3\n",
      "  Downloading uvicorn-0.30.1-py3-none-any.whl (62 kB)\n",
      "\u001b[K     |████████████████████████████████| 62 kB 2.8 MB/s eta 0:00:01\n",
      "\u001b[?25hCollecting opentelemetry-exporter-otlp-proto-grpc>=1.2.0\n",
      "  Downloading opentelemetry_exporter_otlp_proto_grpc-1.25.0-py3-none-any.whl (18 kB)\n",
      "Requirement already satisfied: tqdm>=4.65.0 in /Users/selene/Workspace/python-test/venv/lib/python3.8/site-packages (from chromadb) (4.66.2)\n",
      "Collecting typer>=0.9.0\n",
      "  Downloading typer-0.12.3-py3-none-any.whl (47 kB)\n",
      "\u001b[K     |████████████████████████████████| 47 kB 24.2 MB/s eta 0:00:01\n",
      "\u001b[?25hCollecting opentelemetry-sdk>=1.2.0\n",
      "  Downloading opentelemetry_sdk-1.25.0-py3-none-any.whl (107 kB)\n",
      "\u001b[K     |████████████████████████████████| 107 kB 17.6 MB/s eta 0:00:01\n",
      "\u001b[?25hCollecting orjson>=3.9.12\n",
      "  Downloading orjson-3.10.5-cp38-cp38-macosx_10_15_x86_64.macosx_11_0_arm64.macosx_10_15_universal2.whl (258 kB)\n",
      "\u001b[K     |████████████████████████████████| 258 kB 16.2 MB/s eta 0:00:01\n",
      "\u001b[?25hRequirement already satisfied: pydantic>=1.9 in /Users/selene/Workspace/python-test/venv/lib/python3.8/site-packages (from chromadb) (2.7.4)\n",
      "Requirement already satisfied: importlib-resources in /Users/selene/Workspace/python-test/venv/lib/python3.8/site-packages (from chromadb) (6.4.0)\n",
      "Collecting opentelemetry-api>=1.2.0\n",
      "  Downloading opentelemetry_api-1.25.0-py3-none-any.whl (59 kB)\n",
      "\u001b[K     |████████████████████████████████| 59 kB 10.9 MB/s eta 0:00:01\n",
      "\u001b[?25hCollecting bcrypt>=4.0.1\n",
      "  Downloading bcrypt-4.1.3-cp37-abi3-macosx_10_12_universal2.whl (506 kB)\n",
      "\u001b[K     |████████████████████████████████| 506 kB 10.2 MB/s eta 0:00:01\n",
      "\u001b[?25hRequirement already satisfied: numpy<2.0.0,>=1.22.5 in /Users/selene/Workspace/python-test/venv/lib/python3.8/site-packages (from chromadb) (1.24.3)\n",
      "Collecting chroma-hnswlib==0.7.3\n",
      "  Downloading chroma_hnswlib-0.7.3-cp38-cp38-macosx_11_0_arm64.whl (196 kB)\n",
      "\u001b[K     |████████████████████████████████| 196 kB 4.7 MB/s eta 0:00:01\n",
      "\u001b[?25hCollecting graphlib-backport>=1.0.3\n",
      "  Downloading graphlib_backport-1.1.0-py3-none-any.whl (7.1 kB)\n",
      "Collecting opentelemetry-instrumentation-fastapi>=0.41b0\n",
      "  Downloading opentelemetry_instrumentation_fastapi-0.46b0-py3-none-any.whl (11 kB)\n",
      "Collecting mmh3>=4.0.1\n",
      "  Downloading mmh3-4.1.0-cp38-cp38-macosx_11_0_arm64.whl (30 kB)\n",
      "Collecting posthog>=2.4.0\n",
      "  Downloading posthog-3.5.0-py2.py3-none-any.whl (41 kB)\n",
      "\u001b[K     |████████████████████████████████| 41 kB 788 kB/s eta 0:00:01\n",
      "\u001b[?25hRequirement already satisfied: importlib-metadata>=4.6 in /Users/selene/Workspace/python-test/venv/lib/python3.8/site-packages (from build>=1.0.3->chromadb) (7.1.0)\n",
      "Requirement already satisfied: packaging>=19.1 in /Users/selene/Workspace/python-test/venv/lib/python3.8/site-packages (from build>=1.0.3->chromadb) (24.0)\n",
      "Requirement already satisfied: tomli>=1.1.0 in /Users/selene/Workspace/python-test/venv/lib/python3.8/site-packages (from build>=1.0.3->chromadb) (2.0.1)\n",
      "Collecting pyproject_hooks\n",
      "  Downloading pyproject_hooks-1.1.0-py3-none-any.whl (9.2 kB)\n",
      "Collecting ujson!=4.0.2,!=4.1.0,!=4.2.0,!=4.3.0,!=5.0.0,!=5.1.0,>=4.0.1\n",
      "  Downloading ujson-5.10.0-cp38-cp38-macosx_11_0_arm64.whl (51 kB)\n",
      "\u001b[K     |████████████████████████████████| 51 kB 2.5 MB/s  eta 0:00:01\n",
      "\u001b[?25hCollecting email_validator>=2.0.0\n",
      "  Downloading email_validator-2.1.2-py3-none-any.whl (30 kB)\n",
      "Collecting python-multipart>=0.0.7\n",
      "  Downloading python_multipart-0.0.9-py3-none-any.whl (22 kB)\n",
      "Collecting starlette<0.38.0,>=0.37.2\n",
      "  Downloading starlette-0.37.2-py3-none-any.whl (71 kB)\n",
      "\u001b[K     |████████████████████████████████| 71 kB 1.8 MB/s  eta 0:00:01\n",
      "\u001b[?25hRequirement already satisfied: jinja2>=2.11.2 in /Users/selene/Workspace/python-test/venv/lib/python3.8/site-packages (from fastapi>=0.95.2->chromadb) (3.1.3)\n",
      "Collecting fastapi-cli>=0.0.2\n",
      "  Downloading fastapi_cli-0.0.4-py3-none-any.whl (9.5 kB)\n",
      "Requirement already satisfied: idna>=2.0.0 in /Users/selene/Workspace/python-test/venv/lib/python3.8/site-packages (from email_validator>=2.0.0->fastapi>=0.95.2->chromadb) (3.7)\n",
      "Collecting dnspython>=2.0.0\n",
      "  Downloading dnspython-2.6.1-py3-none-any.whl (307 kB)\n",
      "\u001b[K     |████████████████████████████████| 307 kB 13.8 MB/s eta 0:00:01\n",
      "\u001b[?25hRequirement already satisfied: sniffio in /Users/selene/Workspace/python-test/venv/lib/python3.8/site-packages (from httpx>=0.27.0->chromadb) (1.3.1)\n",
      "Requirement already satisfied: httpcore==1.* in /Users/selene/Workspace/python-test/venv/lib/python3.8/site-packages (from httpx>=0.27.0->chromadb) (1.0.5)\n",
      "Requirement already satisfied: anyio in /Users/selene/Workspace/python-test/venv/lib/python3.8/site-packages (from httpx>=0.27.0->chromadb) (4.3.0)\n",
      "Requirement already satisfied: certifi in /Users/selene/Workspace/python-test/venv/lib/python3.8/site-packages (from httpx>=0.27.0->chromadb) (2024.2.2)\n",
      "Requirement already satisfied: h11<0.15,>=0.13 in /Users/selene/Workspace/python-test/venv/lib/python3.8/site-packages (from httpcore==1.*->httpx>=0.27.0->chromadb) (0.14.0)\n",
      "Requirement already satisfied: zipp>=0.5 in /Users/selene/Workspace/python-test/venv/lib/python3.8/site-packages (from importlib-metadata>=4.6->build>=1.0.3->chromadb) (3.18.1)\n",
      "Requirement already satisfied: MarkupSafe>=2.0 in /Users/selene/Workspace/python-test/venv/lib/python3.8/site-packages (from jinja2>=2.11.2->fastapi>=0.95.2->chromadb) (2.1.5)\n",
      "Requirement already satisfied: python-dateutil>=2.5.3 in /Users/selene/Workspace/python-test/venv/lib/python3.8/site-packages (from kubernetes>=28.1.0->chromadb) (2.9.0.post0)\n",
      "Requirement already satisfied: urllib3>=1.24.2 in /Users/selene/Workspace/python-test/venv/lib/python3.8/site-packages (from kubernetes>=28.1.0->chromadb) (2.2.1)\n",
      "Requirement already satisfied: oauthlib>=3.2.2 in /Users/selene/Workspace/python-test/venv/lib/python3.8/site-packages (from kubernetes>=28.1.0->chromadb) (3.2.2)\n",
      "Requirement already satisfied: websocket-client!=0.40.0,!=0.41.*,!=0.42.*,>=0.32.0 in /Users/selene/Workspace/python-test/venv/lib/python3.8/site-packages (from kubernetes>=28.1.0->chromadb) (1.8.0)\n",
      "Requirement already satisfied: requests-oauthlib in /Users/selene/Workspace/python-test/venv/lib/python3.8/site-packages (from kubernetes>=28.1.0->chromadb) (2.0.0)\n",
      "Requirement already satisfied: google-auth>=1.0.1 in /Users/selene/Workspace/python-test/venv/lib/python3.8/site-packages (from kubernetes>=28.1.0->chromadb) (2.29.0)\n",
      "Requirement already satisfied: six>=1.9.0 in /Users/selene/Workspace/python-test/venv/lib/python3.8/site-packages (from kubernetes>=28.1.0->chromadb) (1.16.0)\n",
      "Requirement already satisfied: pyasn1-modules>=0.2.1 in /Users/selene/Workspace/python-test/venv/lib/python3.8/site-packages (from google-auth>=1.0.1->kubernetes>=28.1.0->chromadb) (0.4.0)\n",
      "Requirement already satisfied: cachetools<6.0,>=2.0.0 in /Users/selene/Workspace/python-test/venv/lib/python3.8/site-packages (from google-auth>=1.0.1->kubernetes>=28.1.0->chromadb) (5.3.3)\n",
      "Requirement already satisfied: rsa<5,>=3.1.4 in /Users/selene/Workspace/python-test/venv/lib/python3.8/site-packages (from google-auth>=1.0.1->kubernetes>=28.1.0->chromadb) (4.9)\n",
      "Requirement already satisfied: flatbuffers in /Users/selene/Workspace/python-test/venv/lib/python3.8/site-packages (from onnxruntime>=1.14.1->chromadb) (24.3.25)\n",
      "Requirement already satisfied: protobuf in /Users/selene/Workspace/python-test/venv/lib/python3.8/site-packages (from onnxruntime>=1.14.1->chromadb) (4.25.3)\n",
      "Collecting coloredlogs\n",
      "  Using cached coloredlogs-15.0.1-py2.py3-none-any.whl (46 kB)\n",
      "Requirement already satisfied: sympy in /Users/selene/Workspace/python-test/venv/lib/python3.8/site-packages (from onnxruntime>=1.14.1->chromadb) (1.12)\n",
      "Collecting deprecated>=1.2.6\n",
      "  Using cached Deprecated-1.2.14-py2.py3-none-any.whl (9.6 kB)\n",
      "Requirement already satisfied: wrapt<2,>=1.10 in /Users/selene/Workspace/python-test/venv/lib/python3.8/site-packages (from deprecated>=1.2.6->opentelemetry-api>=1.2.0->chromadb) (1.16.0)\n",
      "Collecting googleapis-common-protos~=1.52\n",
      "  Downloading googleapis_common_protos-1.63.1-py2.py3-none-any.whl (229 kB)\n",
      "\u001b[K     |████████████████████████████████| 229 kB 4.1 MB/s eta 0:00:01\n",
      "\u001b[?25hCollecting opentelemetry-proto==1.25.0\n",
      "  Downloading opentelemetry_proto-1.25.0-py3-none-any.whl (52 kB)\n",
      "\u001b[K     |████████████████████████████████| 52 kB 2.6 MB/s eta 0:00:01\n",
      "\u001b[?25hCollecting opentelemetry-exporter-otlp-proto-common==1.25.0\n",
      "  Downloading opentelemetry_exporter_otlp_proto_common-1.25.0-py3-none-any.whl (17 kB)\n",
      "Collecting opentelemetry-instrumentation==0.46b0\n",
      "  Downloading opentelemetry_instrumentation-0.46b0-py3-none-any.whl (29 kB)\n",
      "Collecting opentelemetry-semantic-conventions==0.46b0\n",
      "  Downloading opentelemetry_semantic_conventions-0.46b0-py3-none-any.whl (130 kB)\n",
      "\u001b[K     |████████████████████████████████| 130 kB 28.1 MB/s eta 0:00:01\n",
      "\u001b[?25hCollecting opentelemetry-instrumentation-asgi==0.46b0\n",
      "  Downloading opentelemetry_instrumentation_asgi-0.46b0-py3-none-any.whl (14 kB)\n",
      "Collecting opentelemetry-util-http==0.46b0\n",
      "  Downloading opentelemetry_util_http-0.46b0-py3-none-any.whl (6.9 kB)\n",
      "Requirement already satisfied: setuptools>=16.0 in /Users/selene/Workspace/python-test/venv/lib/python3.8/site-packages (from opentelemetry-instrumentation==0.46b0->opentelemetry-instrumentation-fastapi>=0.41b0->chromadb) (56.0.0)\n",
      "Collecting asgiref~=3.0\n",
      "  Downloading asgiref-3.8.1-py3-none-any.whl (23 kB)\n",
      "Collecting monotonic>=1.5\n",
      "  Using cached monotonic-1.6-py2.py3-none-any.whl (8.2 kB)\n",
      "Collecting backoff>=1.10.0\n",
      "  Using cached backoff-2.2.1-py3-none-any.whl (15 kB)\n",
      "Requirement already satisfied: pyasn1<0.7.0,>=0.4.6 in /Users/selene/Workspace/python-test/venv/lib/python3.8/site-packages (from pyasn1-modules>=0.2.1->google-auth>=1.0.1->kubernetes>=28.1.0->chromadb) (0.6.0)\n",
      "Requirement already satisfied: annotated-types>=0.4.0 in /Users/selene/Workspace/python-test/venv/lib/python3.8/site-packages (from pydantic>=1.9->chromadb) (0.7.0)\n",
      "Requirement already satisfied: pydantic-core==2.18.4 in /Users/selene/Workspace/python-test/venv/lib/python3.8/site-packages (from pydantic>=1.9->chromadb) (2.18.4)\n",
      "Requirement already satisfied: charset-normalizer<4,>=2 in /Users/selene/Workspace/python-test/venv/lib/python3.8/site-packages (from requests>=2.28->chromadb) (3.3.2)\n",
      "Requirement already satisfied: exceptiongroup>=1.0.2 in /Users/selene/Workspace/python-test/venv/lib/python3.8/site-packages (from anyio->httpx>=0.27.0->chromadb) (1.2.1)\n",
      "Requirement already satisfied: huggingface-hub<1.0,>=0.16.4 in /Users/selene/Workspace/python-test/venv/lib/python3.8/site-packages (from tokenizers>=0.13.2->chromadb) (0.22.2)\n",
      "Requirement already satisfied: filelock in /Users/selene/Workspace/python-test/venv/lib/python3.8/site-packages (from huggingface-hub<1.0,>=0.16.4->tokenizers>=0.13.2->chromadb) (3.13.4)\n",
      "Requirement already satisfied: fsspec>=2023.5.0 in /Users/selene/Workspace/python-test/venv/lib/python3.8/site-packages (from huggingface-hub<1.0,>=0.16.4->tokenizers>=0.13.2->chromadb) (2024.3.1)\n",
      "Requirement already satisfied: click>=8.0.0 in /Users/selene/Workspace/python-test/venv/lib/python3.8/site-packages (from typer>=0.9.0->chromadb) (8.1.7)\n",
      "Collecting rich>=10.11.0\n",
      "  Downloading rich-13.7.1-py3-none-any.whl (240 kB)\n",
      "\u001b[K     |████████████████████████████████| 240 kB 6.6 MB/s eta 0:00:01\n",
      "\u001b[?25hCollecting shellingham>=1.3.0\n",
      "  Downloading shellingham-1.5.4-py2.py3-none-any.whl (9.8 kB)\n",
      "Requirement already satisfied: pygments<3.0.0,>=2.13.0 in /Users/selene/Workspace/python-test/venv/lib/python3.8/site-packages (from rich>=10.11.0->typer>=0.9.0->chromadb) (2.17.2)\n",
      "Collecting markdown-it-py>=2.2.0\n",
      "  Downloading markdown_it_py-3.0.0-py3-none-any.whl (87 kB)\n",
      "\u001b[K     |████████████████████████████████| 87 kB 7.7 MB/s eta 0:00:011\n",
      "\u001b[?25hCollecting mdurl~=0.1\n",
      "  Downloading mdurl-0.1.2-py3-none-any.whl (10.0 kB)\n",
      "Collecting python-dotenv>=0.13\n",
      "  Using cached python_dotenv-1.0.1-py3-none-any.whl (19 kB)\n",
      "Collecting watchfiles>=0.13\n",
      "  Downloading watchfiles-0.22.0-cp38-cp38-macosx_11_0_arm64.whl (392 kB)\n",
      "\u001b[K     |████████████████████████████████| 392 kB 4.5 MB/s eta 0:00:01\n",
      "\u001b[?25hCollecting uvloop!=0.15.0,!=0.15.1,>=0.14.0\n",
      "  Downloading uvloop-0.19.0-cp38-cp38-macosx_10_9_universal2.whl (1.5 MB)\n",
      "\u001b[K     |████████████████████████████████| 1.5 MB 7.4 MB/s eta 0:00:01\n",
      "\u001b[?25hCollecting httptools>=0.5.0\n",
      "  Downloading httptools-0.6.1-cp38-cp38-macosx_10_9_universal2.whl (151 kB)\n",
      "\u001b[K     |████████████████████████████████| 151 kB 8.2 MB/s eta 0:00:01\n",
      "\u001b[?25hCollecting websockets>=10.4\n",
      "  Downloading websockets-12.0-cp38-cp38-macosx_11_0_arm64.whl (121 kB)\n",
      "\u001b[K     |████████████████████████████████| 121 kB 10.3 MB/s eta 0:00:01\n",
      "\u001b[?25hCollecting langchain-core<0.3,>=0.1.40\n",
      "  Downloading langchain_core-0.2.8-py3-none-any.whl (315 kB)\n",
      "\u001b[K     |████████████████████████████████| 315 kB 2.2 MB/s eta 0:00:01\n",
      "\u001b[?25hCollecting jsonpatch<2.0,>=1.33\n",
      "  Using cached jsonpatch-1.33-py2.py3-none-any.whl (12 kB)\n",
      "Requirement already satisfied: jsonpointer>=1.9 in /Users/selene/Workspace/python-test/venv/lib/python3.8/site-packages (from jsonpatch<2.0,>=1.33->langchain-core<0.3,>=0.1.40->langchain-chroma) (2.4)\n",
      "Collecting dataclasses-json<0.7,>=0.5.7\n",
      "  Downloading dataclasses_json-0.6.7-py3-none-any.whl (28 kB)\n",
      "Collecting SQLAlchemy<3,>=1.4\n",
      "  Downloading SQLAlchemy-2.0.30-cp38-cp38-macosx_11_0_arm64.whl (2.1 MB)\n",
      "\u001b[K     |████████████████████████████████| 2.1 MB 23.1 MB/s eta 0:00:01\n",
      "\u001b[?25hRequirement already satisfied: aiohttp<4.0.0,>=3.8.3 in /Users/selene/Workspace/python-test/venv/lib/python3.8/site-packages (from langchain_community) (3.9.5)\n",
      "Collecting langchain<0.3.0,>=0.2.5\n",
      "  Downloading langchain-0.2.5-py3-none-any.whl (974 kB)\n",
      "\u001b[K     |████████████████████████████████| 974 kB 16.1 MB/s eta 0:00:01\n",
      "\u001b[?25hRequirement already satisfied: async-timeout<5.0,>=4.0 in /Users/selene/Workspace/python-test/venv/lib/python3.8/site-packages (from aiohttp<4.0.0,>=3.8.3->langchain_community) (4.0.3)\n",
      "Requirement already satisfied: attrs>=17.3.0 in /Users/selene/Workspace/python-test/venv/lib/python3.8/site-packages (from aiohttp<4.0.0,>=3.8.3->langchain_community) (23.2.0)\n",
      "Requirement already satisfied: multidict<7.0,>=4.5 in /Users/selene/Workspace/python-test/venv/lib/python3.8/site-packages (from aiohttp<4.0.0,>=3.8.3->langchain_community) (6.0.5)\n",
      "Requirement already satisfied: frozenlist>=1.1.1 in /Users/selene/Workspace/python-test/venv/lib/python3.8/site-packages (from aiohttp<4.0.0,>=3.8.3->langchain_community) (1.4.1)\n",
      "Requirement already satisfied: yarl<2.0,>=1.0 in /Users/selene/Workspace/python-test/venv/lib/python3.8/site-packages (from aiohttp<4.0.0,>=3.8.3->langchain_community) (1.9.4)\n",
      "Requirement already satisfied: aiosignal>=1.1.2 in /Users/selene/Workspace/python-test/venv/lib/python3.8/site-packages (from aiohttp<4.0.0,>=3.8.3->langchain_community) (1.3.1)\n",
      "Collecting typing-inspect<1,>=0.4.0\n",
      "  Using cached typing_inspect-0.9.0-py3-none-any.whl (8.8 kB)\n",
      "Collecting marshmallow<4.0.0,>=3.18.0\n",
      "  Downloading marshmallow-3.21.3-py3-none-any.whl (49 kB)\n",
      "\u001b[K     |████████████████████████████████| 49 kB 23.7 MB/s eta 0:00:01\n",
      "\u001b[?25hCollecting mypy-extensions>=0.3.0\n",
      "  Using cached mypy_extensions-1.0.0-py3-none-any.whl (4.7 kB)\n",
      "Collecting openai<2.0.0,>=1.26.0\n",
      "  Using cached openai-1.34.0-py3-none-any.whl (325 kB)\n",
      "Requirement already satisfied: tiktoken<1,>=0.7 in /Users/selene/Workspace/python-test/venv/lib/python3.8/site-packages (from langchain_openai) (0.7.0)\n",
      "Requirement already satisfied: distro<2,>=1.7.0 in /Users/selene/Workspace/python-test/venv/lib/python3.8/site-packages (from openai<2.0.0,>=1.26.0->langchain_openai) (1.9.0)\n",
      "Requirement already satisfied: regex>=2022.1.18 in /Users/selene/Workspace/python-test/venv/lib/python3.8/site-packages (from tiktoken<1,>=0.7->langchain_openai) (2024.4.16)\n",
      "Requirement already satisfied: transformers>=4.39.0 in /Users/selene/Workspace/python-test/venv/lib/python3.8/site-packages (from langchain-huggingface) (4.40.1)\n",
      "Collecting huggingface-hub<1.0,>=0.16.4\n",
      "  Downloading huggingface_hub-0.23.4-py3-none-any.whl (402 kB)\n",
      "\u001b[K     |████████████████████████████████| 402 kB 15.0 MB/s eta 0:00:01\n",
      "\u001b[?25hCollecting Pillow\n",
      "  Downloading pillow-10.3.0-cp38-cp38-macosx_11_0_arm64.whl (3.4 MB)\n",
      "\u001b[K     |████████████████████████████████| 3.4 MB 4.8 MB/s eta 0:00:01\n",
      "\u001b[?25hRequirement already satisfied: scikit-learn in /Users/selene/Workspace/python-test/venv/lib/python3.8/site-packages (from sentence-transformers) (1.3.2)\n",
      "Requirement already satisfied: torch>=1.11.0 in /Users/selene/Workspace/python-test/venv/lib/python3.8/site-packages (from sentence-transformers) (2.3.0)\n",
      "Requirement already satisfied: scipy in /Users/selene/Workspace/python-test/venv/lib/python3.8/site-packages (from sentence-transformers) (1.10.1)\n",
      "Requirement already satisfied: networkx in /Users/selene/Workspace/python-test/venv/lib/python3.8/site-packages (from torch>=1.11.0->sentence-transformers) (3.1)\n",
      "Requirement already satisfied: safetensors>=0.4.1 in /Users/selene/Workspace/python-test/venv/lib/python3.8/site-packages (from transformers>=4.39.0->langchain-huggingface) (0.4.3)\n",
      "Collecting humanfriendly>=9.1\n",
      "  Using cached humanfriendly-10.0-py2.py3-none-any.whl (86 kB)\n",
      "Requirement already satisfied: joblib>=1.1.1 in /Users/selene/Workspace/python-test/venv/lib/python3.8/site-packages (from scikit-learn->sentence-transformers) (1.4.0)\n",
      "Requirement already satisfied: threadpoolctl>=2.0.0 in /Users/selene/Workspace/python-test/venv/lib/python3.8/site-packages (from scikit-learn->sentence-transformers) (3.4.0)\n",
      "Requirement already satisfied: mpmath>=0.19 in /Users/selene/Workspace/python-test/venv/lib/python3.8/site-packages (from sympy->onnxruntime>=1.14.1->chromadb) (1.3.0)\n",
      "Building wheels for collected packages: pypika\n",
      "  Building wheel for pypika (PEP 517) ... \u001b[?25ldone\n",
      "\u001b[?25h  Created wheel for pypika: filename=PyPika-0.48.9-py2.py3-none-any.whl size=53724 sha256=5b743e0b11a403fb6bb294ad088f7cfe681c5bf58967b27659b4dc29923fbf85\n",
      "  Stored in directory: /Users/selene/Library/Caches/pip/wheels/54/4a/f8/2803c6041841502d0d21fb2a62d401d14716dfeb2261a3a70b\n",
      "Successfully built pypika\n",
      "Installing collected packages: mdurl, markdown-it-py, deprecated, shellingham, rich, orjson, opentelemetry-api, websockets, watchfiles, uvloop, uvicorn, typer, python-dotenv, opentelemetry-util-http, opentelemetry-semantic-conventions, opentelemetry-proto, opentelemetry-instrumentation, langsmith, jsonpatch, humanfriendly, huggingface-hub, httptools, dnspython, asgiref, ujson, starlette, python-multipart, pyproject-hooks, opentelemetry-sdk, opentelemetry-instrumentation-asgi, opentelemetry-exporter-otlp-proto-common, mypy-extensions, monotonic, langchain-core, googleapis-common-protos, fastapi-cli, email-validator, coloredlogs, backoff, typing-inspect, SQLAlchemy, pypika, posthog, Pillow, opentelemetry-instrumentation-fastapi, opentelemetry-exporter-otlp-proto-grpc, onnxruntime, mmh3, marshmallow, langchain-text-splitters, kubernetes, graphlib-backport, fastapi, chroma-hnswlib, build, bcrypt, sentence-transformers, openai, langchain, dataclasses-json, chromadb, langchain-openai, langchain-huggingface, langchain-community, langchain-chroma\n",
      "  Attempting uninstall: huggingface-hub\n",
      "    Found existing installation: huggingface-hub 0.22.2\n",
      "    Uninstalling huggingface-hub-0.22.2:\n",
      "      Successfully uninstalled huggingface-hub-0.22.2\n",
      "  Attempting uninstall: openai\n",
      "    Found existing installation: openai 0.28.0\n",
      "    Uninstalling openai-0.28.0:\n",
      "      Successfully uninstalled openai-0.28.0\n",
      "Successfully installed Pillow-10.3.0 SQLAlchemy-2.0.30 asgiref-3.8.1 backoff-2.2.1 bcrypt-4.1.3 build-1.2.1 chroma-hnswlib-0.7.3 chromadb-0.5.2 coloredlogs-15.0.1 dataclasses-json-0.6.7 deprecated-1.2.14 dnspython-2.6.1 email-validator-2.1.2 fastapi-0.111.0 fastapi-cli-0.0.4 googleapis-common-protos-1.63.1 graphlib-backport-1.1.0 httptools-0.6.1 huggingface-hub-0.23.4 humanfriendly-10.0 jsonpatch-1.33 kubernetes-30.1.0 langchain-0.2.5 langchain-chroma-0.1.1 langchain-community-0.2.5 langchain-core-0.2.8 langchain-huggingface-0.0.3 langchain-openai-0.1.8 langchain-text-splitters-0.2.1 langsmith-0.1.79 markdown-it-py-3.0.0 marshmallow-3.21.3 mdurl-0.1.2 mmh3-4.1.0 monotonic-1.6 mypy-extensions-1.0.0 onnxruntime-1.18.0 openai-1.34.0 opentelemetry-api-1.25.0 opentelemetry-exporter-otlp-proto-common-1.25.0 opentelemetry-exporter-otlp-proto-grpc-1.25.0 opentelemetry-instrumentation-0.46b0 opentelemetry-instrumentation-asgi-0.46b0 opentelemetry-instrumentation-fastapi-0.46b0 opentelemetry-proto-1.25.0 opentelemetry-sdk-1.25.0 opentelemetry-semantic-conventions-0.46b0 opentelemetry-util-http-0.46b0 orjson-3.10.5 posthog-3.5.0 pypika-0.48.9 pyproject-hooks-1.1.0 python-dotenv-1.0.1 python-multipart-0.0.9 rich-13.7.1 sentence-transformers-3.0.1 shellingham-1.5.4 starlette-0.37.2 typer-0.12.3 typing-inspect-0.9.0 ujson-5.10.0 uvicorn-0.30.1 uvloop-0.19.0 watchfiles-0.22.0 websockets-12.0\n",
      "\u001b[33mWARNING: You are using pip version 21.1.1; however, version 24.0 is available.\n",
      "You should consider upgrading via the '/Users/selene/Workspace/python-test/venv/bin/python -m pip install --upgrade pip' command.\u001b[0m\n"
     ]
    }
   ],
   "source": [
    "!pip install chromadb langchain-chroma langchain_community langchain_openai langchain_text_splitters langchain-huggingface langchain-chroma sentence-transformers langsmith"
   ]
  },
  {
   "cell_type": "code",
   "execution_count": 2,
   "metadata": {
    "colab": {
     "base_uri": "https://localhost:8080/"
    },
    "id": "WEAsI1crKyKc",
    "outputId": "f931a2f8-a719-407a-bbf4-f773cfff3843",
    "scrolled": true
   },
   "outputs": [
    {
     "name": "stdout",
     "output_type": "stream",
     "text": [
      "Collecting langchainhub\n",
      "  Downloading langchainhub-0.1.20-py3-none-any.whl (5.0 kB)\n",
      "Requirement already satisfied: requests<3,>=2 in /Users/selene/Workspace/python-test/venv/lib/python3.8/site-packages (from langchainhub) (2.31.0)\n",
      "Requirement already satisfied: packaging<25,>=23.2 in /Users/selene/Workspace/python-test/venv/lib/python3.8/site-packages (from langchainhub) (24.0)\n",
      "Collecting types-requests<3.0.0.0,>=2.31.0.2\n",
      "  Downloading types_requests-2.32.0.20240602-py3-none-any.whl (15 kB)\n",
      "Requirement already satisfied: charset-normalizer<4,>=2 in /Users/selene/Workspace/python-test/venv/lib/python3.8/site-packages (from requests<3,>=2->langchainhub) (3.3.2)\n",
      "Requirement already satisfied: certifi>=2017.4.17 in /Users/selene/Workspace/python-test/venv/lib/python3.8/site-packages (from requests<3,>=2->langchainhub) (2024.2.2)\n",
      "Requirement already satisfied: idna<4,>=2.5 in /Users/selene/Workspace/python-test/venv/lib/python3.8/site-packages (from requests<3,>=2->langchainhub) (3.7)\n",
      "Requirement already satisfied: urllib3<3,>=1.21.1 in /Users/selene/Workspace/python-test/venv/lib/python3.8/site-packages (from requests<3,>=2->langchainhub) (2.2.1)\n",
      "Installing collected packages: types-requests, langchainhub\n",
      "Successfully installed langchainhub-0.1.20 types-requests-2.32.0.20240602\n",
      "\u001b[33mWARNING: You are using pip version 21.1.1; however, version 24.0 is available.\n",
      "You should consider upgrading via the '/Users/selene/Workspace/python-test/venv/bin/python -m pip install --upgrade pip' command.\u001b[0m\n"
     ]
    }
   ],
   "source": [
    "!pip install langchainhub"
   ]
  },
  {
   "cell_type": "code",
   "execution_count": 3,
   "metadata": {
    "colab": {
     "base_uri": "https://localhost:8080/"
    },
    "id": "M0n9LIxTErbq",
    "outputId": "2d4d841c-2256-4a62-fa93-a5b4a453e586",
    "scrolled": true
   },
   "outputs": [
    {
     "name": "stdout",
     "output_type": "stream",
     "text": [
      "Collecting pypdf\n",
      "  Downloading pypdf-4.2.0-py3-none-any.whl (290 kB)\n",
      "\u001b[K     |████████████████████████████████| 290 kB 9.3 MB/s eta 0:00:01\n",
      "\u001b[?25hCollecting pdfplumber\n",
      "  Downloading pdfplumber-0.11.1-py3-none-any.whl (57 kB)\n",
      "\u001b[K     |████████████████████████████████| 57 kB 22.4 MB/s eta 0:00:01\n",
      "\u001b[?25hCollecting PyMuPDF\n",
      "  Downloading PyMuPDF-1.24.5-cp38-none-macosx_11_0_arm64.whl (3.0 MB)\n",
      "\u001b[K     |████████████████████████████████| 3.0 MB 9.0 MB/s eta 0:00:01\n",
      "\u001b[?25hCollecting frontend\n",
      "  Downloading frontend-0.0.3-py3-none-any.whl (32 kB)\n",
      "Requirement already satisfied: typing_extensions>=4.0 in /Users/selene/Workspace/python-test/venv/lib/python3.8/site-packages (from pypdf) (4.12.2)\n",
      "Collecting pdfminer.six==20231228\n",
      "  Downloading pdfminer.six-20231228-py3-none-any.whl (5.6 MB)\n",
      "\u001b[K     |████████████████████████████████| 5.6 MB 8.2 MB/s eta 0:00:011\n",
      "\u001b[?25hRequirement already satisfied: Pillow>=9.1 in /Users/selene/Workspace/python-test/venv/lib/python3.8/site-packages (from pdfplumber) (10.3.0)\n",
      "Collecting pypdfium2>=4.18.0\n",
      "  Downloading pypdfium2-4.30.0-py3-none-macosx_11_0_arm64.whl (2.7 MB)\n",
      "\u001b[K     |████████████████████████████████| 2.7 MB 17.6 MB/s eta 0:00:01\n",
      "\u001b[?25hCollecting cryptography>=36.0.0\n",
      "  Using cached cryptography-42.0.8-cp37-abi3-macosx_10_12_universal2.whl (5.9 MB)\n",
      "Requirement already satisfied: charset-normalizer>=2.0.0 in /Users/selene/Workspace/python-test/venv/lib/python3.8/site-packages (from pdfminer.six==20231228->pdfplumber) (3.3.2)\n",
      "Requirement already satisfied: cffi>=1.12 in /Users/selene/Workspace/python-test/venv/lib/python3.8/site-packages (from cryptography>=36.0.0->pdfminer.six==20231228->pdfplumber) (1.16.0)\n",
      "Requirement already satisfied: pycparser in /Users/selene/Workspace/python-test/venv/lib/python3.8/site-packages (from cffi>=1.12->cryptography>=36.0.0->pdfminer.six==20231228->pdfplumber) (2.22)\n",
      "Collecting PyMuPDFb==1.24.3\n",
      "  Downloading PyMuPDFb-1.24.3-py3-none-macosx_11_0_arm64.whl (14.9 MB)\n",
      "\u001b[K     |████████████████████████████████| 14.9 MB 2.4 MB/s eta 0:00:011�▍                   | 5.8 MB 26.8 MB/s eta 0:00:0101\n",
      "\u001b[?25hRequirement already satisfied: uvicorn>=0.7.1 in /Users/selene/Workspace/python-test/venv/lib/python3.8/site-packages (from frontend) (0.30.1)\n",
      "Collecting itsdangerous>=1.1.0\n",
      "  Using cached itsdangerous-2.2.0-py3-none-any.whl (16 kB)\n",
      "Collecting aiofiles\n",
      "  Using cached aiofiles-23.2.1-py3-none-any.whl (15 kB)\n",
      "Requirement already satisfied: starlette>=0.12.0 in /Users/selene/Workspace/python-test/venv/lib/python3.8/site-packages (from frontend) (0.37.2)\n",
      "Requirement already satisfied: anyio<5,>=3.4.0 in /Users/selene/Workspace/python-test/venv/lib/python3.8/site-packages (from starlette>=0.12.0->frontend) (4.3.0)\n",
      "Requirement already satisfied: idna>=2.8 in /Users/selene/Workspace/python-test/venv/lib/python3.8/site-packages (from anyio<5,>=3.4.0->starlette>=0.12.0->frontend) (3.7)\n",
      "Requirement already satisfied: sniffio>=1.1 in /Users/selene/Workspace/python-test/venv/lib/python3.8/site-packages (from anyio<5,>=3.4.0->starlette>=0.12.0->frontend) (1.3.1)\n",
      "Requirement already satisfied: exceptiongroup>=1.0.2 in /Users/selene/Workspace/python-test/venv/lib/python3.8/site-packages (from anyio<5,>=3.4.0->starlette>=0.12.0->frontend) (1.2.1)\n",
      "Requirement already satisfied: h11>=0.8 in /Users/selene/Workspace/python-test/venv/lib/python3.8/site-packages (from uvicorn>=0.7.1->frontend) (0.14.0)\n",
      "Requirement already satisfied: click>=7.0 in /Users/selene/Workspace/python-test/venv/lib/python3.8/site-packages (from uvicorn>=0.7.1->frontend) (8.1.7)\n",
      "Installing collected packages: cryptography, pypdfium2, PyMuPDFb, pdfminer.six, itsdangerous, aiofiles, pypdf, PyMuPDF, pdfplumber, frontend\n",
      "Successfully installed PyMuPDF-1.24.5 PyMuPDFb-1.24.3 aiofiles-23.2.1 cryptography-42.0.8 frontend-0.0.3 itsdangerous-2.2.0 pdfminer.six-20231228 pdfplumber-0.11.1 pypdf-4.2.0 pypdfium2-4.30.0\n",
      "\u001b[33mWARNING: You are using pip version 21.1.1; however, version 24.0 is available.\n",
      "You should consider upgrading via the '/Users/selene/Workspace/python-test/venv/bin/python -m pip install --upgrade pip' command.\u001b[0m\n"
     ]
    }
   ],
   "source": [
    "!pip install pypdf pdfplumber PyMuPDF frontend pymupdf"
   ]
  },
  {
   "cell_type": "markdown",
   "metadata": {
    "id": "WpSCAWQQHjrI"
   },
   "source": [
    "### 환경 셋팅"
   ]
  },
  {
   "cell_type": "code",
   "execution_count": 4,
   "metadata": {
    "id": "tkN6nVGSFL-E"
   },
   "outputs": [],
   "source": [
    "import os\n",
    "os.environ['LANGCHAIN_TRACING_V2'] = 'true'\n",
    "os.environ['LANGCHAIN_ENDPOINT'] = 'https://api.smith.langchain.com'\n",
    "os.environ['LANGCHAIN_API_KEY'] = ''\n",
    "os.environ['OPENAI_API_KEY'] = \"\""
   ]
  },
  {
   "cell_type": "markdown",
   "metadata": {
    "id": "sGU9isjbHskI"
   },
   "source": [
    "### Load & Split"
   ]
  },
  {
   "cell_type": "code",
   "execution_count": 5,
   "metadata": {
    "colab": {
     "base_uri": "https://localhost:8080/"
    },
    "id": "rDkKCs1GGaG8",
    "outputId": "b693de53-ffde-4822-f587-6532a5bd51ec"
   },
   "outputs": [
    {
     "name": "stderr",
     "output_type": "stream",
     "text": [
      "USER_AGENT environment variable not set, consider setting it to identify your requests.\n"
     ]
    }
   ],
   "source": [
    "from langchain_community.document_loaders import WebBaseLoader\n",
    "from langchain_text_splitters import RecursiveCharacterTextSplitter\n",
    "\n",
    "urls = [\n",
    "  \"https://lilianweng.github.io/posts/2023-06-23-agent/\",\n",
    "  \"https://lilianweng.github.io/posts/2023-03-15-prompt-engineering/\",\n",
    "  \"https://lilianweng.github.io/posts/2023-10-25-adv-attack-llm/\",\n",
    "]\n",
    "\n",
    "for i, url in enumerate(urls):\n",
    "  loader = WebBaseLoader(url)\n",
    "  if i==0:\n",
    "    docs = loader.load()\n",
    "  else:\n",
    "    docs.extend(loader.load())\n"
   ]
  },
  {
   "cell_type": "code",
   "execution_count": 6,
   "metadata": {
    "id": "wJwbPkJgHG-N"
   },
   "outputs": [],
   "source": [
    "text_splitter = RecursiveCharacterTextSplitter(chunk_size=1000, chunk_overlap=200)\n",
    "splits = text_splitter.split_documents(docs)"
   ]
  },
  {
   "cell_type": "markdown",
   "metadata": {
    "id": "a0WNrXaBJAyG"
   },
   "source": [
    "### Embed & Store"
   ]
  },
  {
   "cell_type": "code",
   "execution_count": 7,
   "metadata": {
    "id": "5JXS2g0YHHQp"
   },
   "outputs": [],
   "source": [
    "from langchain_openai import OpenAIEmbeddings\n",
    "from langchain_chroma import Chroma\n",
    "\n",
    "embedding = OpenAIEmbeddings()\n",
    "vectordb = Chroma.from_documents(documents=splits, embedding=embedding)"
   ]
  },
  {
   "cell_type": "markdown",
   "metadata": {
    "id": "mr5wlT24KN6M"
   },
   "source": [
    "### User Query"
   ]
  },
  {
   "cell_type": "code",
   "execution_count": 22,
   "metadata": {
    "id": "wR9i1i2BHHnK"
   },
   "outputs": [],
   "source": [
    "from langchain import hub\n",
    "from langchain_community.chat_models import ChatOllama\n",
    "\n",
    "\n",
    "retriever = vectordb.as_retriever()\n",
    "llama_prompt = hub.pull(\"rlm/rag-prompt-llama3\")\n",
    "llm = ChatOllama(model=\"llama3\", temperature=0)"
   ]
  },
  {
   "cell_type": "code",
   "execution_count": 58,
   "metadata": {
    "colab": {
     "base_uri": "https://localhost:8080/",
     "height": 811
    },
    "id": "eWphEex2HH3d",
    "outputId": "be4f383e-f72b-48e9-a5ff-30df45a49453"
   },
   "outputs": [
    {
     "data": {
      "text/plain": [
       "'Based on the provided context, it appears that \"agent memory\" refers to the long-term memory module of the agent, which records a comprehensive list of agents\\' experiences in natural language. This memory is used for reflection and refinement, enabling the agent to learn from past actions and improve its behavior over time.'"
      ]
     },
     "execution_count": 58,
     "metadata": {},
     "output_type": "execute_result"
    }
   ],
   "source": [
    "from langchain_core.runnables import RunnablePassthrough\n",
    "from langchain_core.output_parsers import StrOutputParser\n",
    "\n",
    "def format_docs(docs):\n",
    "    return \"\\n\\n\".join(doc.page_content for doc in docs)\n",
    "\n",
    "\n",
    "answer_rag_chain = (\n",
    "    {\"context\": retriever | format_docs, \"question\": RunnablePassthrough()}\n",
    "    | llama_prompt\n",
    "    | llm\n",
    "    | StrOutputParser()\n",
    ")\n",
    "\n",
    "answer_rag_chain.invoke(\"agent memory\")\n"
   ]
  },
  {
   "cell_type": "code",
   "execution_count": 20,
   "metadata": {
    "id": "4MbOsUHBK7RH"
   },
   "outputs": [],
   "source": [
    "!pip install -q --upgrade nest_asyncio\n",
    "\n",
    "import nest_asyncio\n",
    "\n",
    "nest_asyncio.apply()"
   ]
  },
  {
   "cell_type": "markdown",
   "metadata": {
    "id": "i9CcAPDfLPNu"
   },
   "source": [
    "### 평가"
   ]
  },
  {
   "cell_type": "code",
   "execution_count": 51,
   "metadata": {},
   "outputs": [],
   "source": [
    "from langchain_core.prompts import PromptTemplate\n",
    "\n",
    "answer_relevancy_evaluate = \"\"\"\n",
    "<|begin_of_text|><|start_header_id|>system<|end_header_id|>\n",
    "Evaluate the relevancy between question and context.\n",
    "Answer in a json format with 'relevance' field.\n",
    "If the context is relevant to the question, then the answer should be json format {{'relevance': 'yes'}}\n",
    "If not, then output should be json format {{'relevance': 'no'}}\n",
    "\n",
    "<example>\n",
    "answer: Albert Einstein was born in Germany.\n",
    "context: Albert Einstein was a German-born theoretical physicist who is widely held to be one of the greatest and most influential scientists of all time\n",
    "output: {{'relevance': 'yes'}}\n",
    "\n",
    "ONLY!! answer the json!! (not the other words, sentence, etc)\n",
    "\n",
    "<|eot_id|><|start_header_id|>user<|end_header_id|>\n",
    "\n",
    "question: {question}\n",
    "context: {context}\n",
    "\n",
    "|eot_id|><|start_header_id|>assistant<|end_header_id|>\n",
    "\"\"\"\n",
    "\n",
    "answer_relevancy_prompt = PromptTemplate(\n",
    "    input_variables=[\"question\", \"context\"], \n",
    "    template=answer_relevancy_evaluate\n",
    ")"
   ]
  },
  {
   "cell_type": "code",
   "execution_count": 52,
   "metadata": {},
   "outputs": [],
   "source": [
    "from langchain_core.output_parsers import JsonOutputParser\n",
    "from operator import itemgetter\n",
    "\n",
    "json_parser = JsonOutputParser()\n",
    "\n",
    "relevancy_evaluate_chain = (\n",
    "    {\"context\": retriever | format_docs, \"question\": RunnablePassthrough()}\n",
    "    | answer_relevancy_prompt\n",
    "    | llm\n",
    "    | json_parser\n",
    ")\n"
   ]
  },
  {
   "cell_type": "code",
   "execution_count": 55,
   "metadata": {},
   "outputs": [
    {
     "name": "stdout",
     "output_type": "stream",
     "text": [
      "{'relevance': 'yes'}\n"
     ]
    }
   ],
   "source": [
    "print(relevancy_evaluate_chain.invoke(\"agent memory\"))"
   ]
  },
  {
   "cell_type": "code",
   "execution_count": 57,
   "metadata": {},
   "outputs": [
    {
     "name": "stdout",
     "output_type": "stream",
     "text": [
      "{'relevance': 'no'}\n"
     ]
    }
   ],
   "source": [
    "print(relevancy_evaluate_chain.invoke(\"What is apple?\"))"
   ]
  },
  {
   "cell_type": "code",
   "execution_count": null,
   "metadata": {},
   "outputs": [],
   "source": []
  }
 ],
 "metadata": {
  "colab": {
   "provenance": []
  },
  "kernelspec": {
   "display_name": "venv",
   "language": "python",
   "name": "venv"
  },
  "language_info": {
   "codemirror_mode": {
    "name": "ipython",
    "version": 3
   },
   "file_extension": ".py",
   "mimetype": "text/x-python",
   "name": "python",
   "nbconvert_exporter": "python",
   "pygments_lexer": "ipython3",
   "version": "3.8.10"
  }
 },
 "nbformat": 4,
 "nbformat_minor": 4
}
